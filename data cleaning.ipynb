{
  "metadata": {
    "kernelspec": {
      "name": "python",
      "display_name": "Python (Pyodide)",
      "language": "python"
    },
    "language_info": {
      "codemirror_mode": {
        "name": "python",
        "version": 3
      },
      "file_extension": ".py",
      "mimetype": "text/x-python",
      "name": "python",
      "nbconvert_exporter": "python",
      "pygments_lexer": "ipython3",
      "version": "3.8"
    }
  },
  "nbformat_minor": 4,
  "nbformat": 4,
  "cells": [
    {
      "cell_type": "code",
      "source": "import pandas as pd \ndata = pd.read_csv('Superstore Sales Dataset.csv' , encoding='utf-8')        # uplpoud the data and get information about each column\ndata.info()",
      "metadata": {
        "trusted": true,
        "scrolled": true
      },
      "outputs": [
        {
          "name": "stderr",
          "text": "<ipython-input-1-eede12b2cb3c>:1: DeprecationWarning: \nPyarrow will become a required dependency of pandas in the next major release of pandas (pandas 3.0),\n(to allow more performant data types, such as the Arrow string type, and better interoperability with other libraries)\nbut was not found to be installed on your system.\nIf this would cause problems for you,\nplease provide us feedback at https://github.com/pandas-dev/pandas/issues/54466\n        \n  import pandas as pd\n",
          "output_type": "stream"
        },
        {
          "name": "stdout",
          "text": "<class 'pandas.core.frame.DataFrame'>\nRangeIndex: 9800 entries, 0 to 9799\nData columns (total 18 columns):\n #   Column         Non-Null Count  Dtype  \n---  ------         --------------  -----  \n 0   Row ID         9800 non-null   int64  \n 1   Order ID       9800 non-null   object \n 2   Order Date     9800 non-null   object \n 3   Ship Date      9800 non-null   object \n 4   Ship Mode      9800 non-null   object \n 5   Customer ID    9800 non-null   object \n 6   Customer Name  9800 non-null   object \n 7   Segment        9800 non-null   object \n 8   Country        9800 non-null   object \n 9   City           9800 non-null   object \n 10  State          9800 non-null   object \n 11  Postal Code    9789 non-null   float64\n 12  Region         9800 non-null   object \n 13  Product ID     9800 non-null   object \n 14  Category       9800 non-null   object \n 15  Sub-Category   9800 non-null   object \n 16  Product Name   9800 non-null   object \n 17  Sales          9800 non-null   float64\ndtypes: float64(2), int64(1), object(15)\nmemory usage: 804.0+ KB\n",
          "output_type": "stream"
        }
      ],
      "execution_count": 1
    },
    {
      "cell_type": "code",
      "source": "# order date and ship date are in wrong formate\n# postal code has some null value",
      "metadata": {
        "trusted": true
      },
      "outputs": [],
      "execution_count": 2
    },
    {
      "cell_type": "code",
      "source": "data['Order Date'] = pd.to_datetime(data['Order Date'], format='%d/%m/%Y', errors='coerce')   # change data type of the dates column\ndata['Ship Date'] = pd.to_datetime(data['Ship Date'], format='%d/%m/%Y', errors='coerce')",
      "metadata": {
        "trusted": true
      },
      "outputs": [],
      "execution_count": 3
    },
    {
      "cell_type": "code",
      "source": "missing_postal_code_rows = data[data['Postal Code'].isnull()]                                # handling missing value",
      "metadata": {
        "trusted": true
      },
      "outputs": [],
      "execution_count": 4
    },
    {
      "cell_type": "code",
      "source": "print(missing_postal_code_rows)                                                             # vermont sate has the null ",
      "metadata": {
        "trusted": true
      },
      "outputs": [
        {
          "name": "stdout",
          "text": "      Row ID        Order ID Order Date  Ship Date       Ship Mode  \\\n2234    2235  CA-2018-104066 2018-12-05 2018-12-10  Standard Class   \n5274    5275  CA-2016-162887 2016-11-07 2016-11-09    Second Class   \n8798    8799  US-2017-150140 2017-04-06 2017-04-10  Standard Class   \n9146    9147  US-2017-165505 2017-01-23 2017-01-27  Standard Class   \n9147    9148  US-2017-165505 2017-01-23 2017-01-27  Standard Class   \n9148    9149  US-2017-165505 2017-01-23 2017-01-27  Standard Class   \n9386    9387  US-2018-127292 2018-01-19 2018-01-23  Standard Class   \n9387    9388  US-2018-127292 2018-01-19 2018-01-23  Standard Class   \n9388    9389  US-2018-127292 2018-01-19 2018-01-23  Standard Class   \n9389    9390  US-2018-127292 2018-01-19 2018-01-23  Standard Class   \n9741    9742  CA-2016-117086 2016-11-08 2016-11-12  Standard Class   \n\n     Customer ID     Customer Name      Segment        Country        City  \\\n2234    QJ-19255      Quincy Jones    Corporate  United States  Burlington   \n5274    SV-20785  Stewart Visinsky     Consumer  United States  Burlington   \n8798    VM-21685   Valerie Mitchum  Home Office  United States  Burlington   \n9146    CB-12535  Claudia Bergmann    Corporate  United States  Burlington   \n9147    CB-12535  Claudia Bergmann    Corporate  United States  Burlington   \n9148    CB-12535  Claudia Bergmann    Corporate  United States  Burlington   \n9386    RM-19375     Raymond Messe     Consumer  United States  Burlington   \n9387    RM-19375     Raymond Messe     Consumer  United States  Burlington   \n9388    RM-19375     Raymond Messe     Consumer  United States  Burlington   \n9389    RM-19375     Raymond Messe     Consumer  United States  Burlington   \n9741    QJ-19255      Quincy Jones    Corporate  United States  Burlington   \n\n        State  Postal Code Region       Product ID         Category  \\\n2234  Vermont          NaN   East  TEC-AC-10001013       Technology   \n5274  Vermont          NaN   East  FUR-CH-10000595        Furniture   \n8798  Vermont          NaN   East  TEC-PH-10002555       Technology   \n9146  Vermont          NaN   East  TEC-AC-10002926       Technology   \n9147  Vermont          NaN   East  OFF-AR-10003477  Office Supplies   \n9148  Vermont          NaN   East  OFF-ST-10001526  Office Supplies   \n9386  Vermont          NaN   East  OFF-PA-10000157  Office Supplies   \n9387  Vermont          NaN   East  OFF-PA-10001970  Office Supplies   \n9388  Vermont          NaN   East  OFF-AP-10000828  Office Supplies   \n9389  Vermont          NaN   East  OFF-EN-10001509  Office Supplies   \n9741  Vermont          NaN   East  FUR-BO-10004834        Furniture   \n\n     Sub-Category                                       Product Name    Sales  \n2234  Accessories        Logitech ClearChat Comfort/USB Headset H390   205.03  \n5274       Chairs                    Safco Contoured Stacking Chairs   715.20  \n8798       Phones                Nortel Meridian M5316 Digital phone  1294.75  \n9146  Accessories              Logitech Wireless Marathon Mouse M705    99.98  \n9147          Art                                  4009 Highlighters     8.04  \n9148      Storage              Iceberg Mobile Mega Data/Printer Cart  1564.29  \n9386        Paper                                          Xerox 191    79.92  \n9387        Paper                                         Xerox 1881    12.28  \n9388   Appliances                    Avanti 4.4 Cu. Ft. Refrigerator   542.94  \n9389    Envelopes                          Poly String Tie Envelopes     2.04  \n9741    Bookcases  Riverside Palais Royal Lawyers Bookcase, Royal...  4404.90  \n",
          "output_type": "stream"
        }
      ],
      "execution_count": 5
    },
    {
      "cell_type": "code",
      "source": "#Fill missing postal codes based on the city name(Burlington)                                # searching for the postal code on goegle anf fill it \ndata['Postal Code'] = data['Postal Code'].fillna('05401')",
      "metadata": {
        "trusted": true
      },
      "outputs": [],
      "execution_count": 6
    },
    {
      "cell_type": "code",
      "source": "data.info()                                                                                 # makeing sure that the date in a correct form ",
      "metadata": {
        "trusted": true
      },
      "outputs": [
        {
          "name": "stdout",
          "text": "<class 'pandas.core.frame.DataFrame'>\nRangeIndex: 9800 entries, 0 to 9799\nData columns (total 18 columns):\n #   Column         Non-Null Count  Dtype         \n---  ------         --------------  -----         \n 0   Row ID         9800 non-null   int64         \n 1   Order ID       9800 non-null   object        \n 2   Order Date     9800 non-null   datetime64[ns]\n 3   Ship Date      9800 non-null   datetime64[ns]\n 4   Ship Mode      9800 non-null   object        \n 5   Customer ID    9800 non-null   object        \n 6   Customer Name  9800 non-null   object        \n 7   Segment        9800 non-null   object        \n 8   Country        9800 non-null   object        \n 9   City           9800 non-null   object        \n 10  State          9800 non-null   object        \n 11  Postal Code    9800 non-null   object        \n 12  Region         9800 non-null   object        \n 13  Product ID     9800 non-null   object        \n 14  Category       9800 non-null   object        \n 15  Sub-Category   9800 non-null   object        \n 16  Product Name   9800 non-null   object        \n 17  Sales          9800 non-null   float64       \ndtypes: datetime64[ns](2), float64(1), int64(1), object(14)\nmemory usage: 842.3+ KB\n",
          "output_type": "stream"
        }
      ],
      "execution_count": 7
    },
    {
      "cell_type": "code",
      "source": "data['Postal Code'] = data['Postal Code'].astype(int)                                    # postal code is object so ew changed it to int",
      "metadata": {
        "trusted": true
      },
      "outputs": [],
      "execution_count": 8
    },
    {
      "cell_type": "code",
      "source": "data.info()",
      "metadata": {
        "trusted": true
      },
      "outputs": [
        {
          "name": "stdout",
          "text": "<class 'pandas.core.frame.DataFrame'>\nRangeIndex: 9800 entries, 0 to 9799\nData columns (total 18 columns):\n #   Column         Non-Null Count  Dtype         \n---  ------         --------------  -----         \n 0   Row ID         9800 non-null   int64         \n 1   Order ID       9800 non-null   object        \n 2   Order Date     9800 non-null   datetime64[ns]\n 3   Ship Date      9800 non-null   datetime64[ns]\n 4   Ship Mode      9800 non-null   object        \n 5   Customer ID    9800 non-null   object        \n 6   Customer Name  9800 non-null   object        \n 7   Segment        9800 non-null   object        \n 8   Country        9800 non-null   object        \n 9   City           9800 non-null   object        \n 10  State          9800 non-null   object        \n 11  Postal Code    9800 non-null   int32         \n 12  Region         9800 non-null   object        \n 13  Product ID     9800 non-null   object        \n 14  Category       9800 non-null   object        \n 15  Sub-Category   9800 non-null   object        \n 16  Product Name   9800 non-null   object        \n 17  Sales          9800 non-null   float64       \ndtypes: datetime64[ns](2), float64(1), int32(1), int64(1), object(13)\nmemory usage: 842.3+ KB\n",
          "output_type": "stream"
        }
      ],
      "execution_count": 9
    },
    {
      "cell_type": "code",
      "source": "data = data.drop_duplicates()                                                     # checking if there is any duplicates",
      "metadata": {
        "trusted": true
      },
      "outputs": [],
      "execution_count": 10
    },
    {
      "cell_type": "code",
      "source": "data.info()",
      "metadata": {
        "trusted": true
      },
      "outputs": [
        {
          "name": "stdout",
          "text": "<class 'pandas.core.frame.DataFrame'>\nRangeIndex: 9800 entries, 0 to 9799\nData columns (total 18 columns):\n #   Column         Non-Null Count  Dtype         \n---  ------         --------------  -----         \n 0   Row ID         9800 non-null   int64         \n 1   Order ID       9800 non-null   object        \n 2   Order Date     9800 non-null   datetime64[ns]\n 3   Ship Date      9800 non-null   datetime64[ns]\n 4   Ship Mode      9800 non-null   object        \n 5   Customer ID    9800 non-null   object        \n 6   Customer Name  9800 non-null   object        \n 7   Segment        9800 non-null   object        \n 8   Country        9800 non-null   object        \n 9   City           9800 non-null   object        \n 10  State          9800 non-null   object        \n 11  Postal Code    9800 non-null   int32         \n 12  Region         9800 non-null   object        \n 13  Product ID     9800 non-null   object        \n 14  Category       9800 non-null   object        \n 15  Sub-Category   9800 non-null   object        \n 16  Product Name   9800 non-null   object        \n 17  Sales          9800 non-null   float64       \ndtypes: datetime64[ns](2), float64(1), int32(1), int64(1), object(13)\nmemory usage: 842.3+ KB\n",
          "output_type": "stream"
        }
      ],
      "execution_count": 11
    },
    {
      "cell_type": "code",
      "source": "data.to_csv('new_superstore_data.csv', index=False)                              # save the new cleaned data as csv file",
      "metadata": {
        "trusted": true
      },
      "outputs": [],
      "execution_count": 12
    },
    {
      "cell_type": "code",
      "source": "sales_statistics = data['Sales'].describe()                                      # to get some additional statistic information ",
      "metadata": {
        "trusted": true
      },
      "outputs": [],
      "execution_count": 13
    },
    {
      "cell_type": "code",
      "source": "print(sales_statistics)                                                       ",
      "metadata": {
        "trusted": true
      },
      "outputs": [
        {
          "name": "stdout",
          "text": "count     9800.000000\nmean       230.769059\nstd        626.651875\nmin          0.444000\n25%         17.248000\n50%         54.490000\n75%        210.605000\nmax      22638.480000\nName: Sales, dtype: float64\n",
          "output_type": "stream"
        }
      ],
      "execution_count": 14
    },
    {
      "cell_type": "code",
      "source": "",
      "metadata": {
        "trusted": true
      },
      "outputs": [],
      "execution_count": null
    }
  ]
}